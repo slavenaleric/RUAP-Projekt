{
  "nbformat": 4,
  "nbformat_minor": 0,
  "metadata": {
    "colab": {
      "provenance": [],
      "authorship_tag": "ABX9TyOiyZDyt2ZqeTMGus/z5g3O",
      "include_colab_link": true
    },
    "kernelspec": {
      "name": "python3",
      "display_name": "Python 3"
    },
    "language_info": {
      "name": "python"
    }
  },
  "cells": [
    {
      "cell_type": "markdown",
      "metadata": {
        "id": "view-in-github",
        "colab_type": "text"
      },
      "source": [
        "<a href=\"https://colab.research.google.com/github/slavenaleric/RUAP-Projekt/blob/main/Untitled1.ipynb\" target=\"_parent\"><img src=\"https://colab.research.google.com/assets/colab-badge.svg\" alt=\"Open In Colab\"/></a>"
      ]
    },
    {
      "cell_type": "markdown",
      "source": [
        "Zadatak 1\n",
        "a) Na razini značajnosti od 5% testirajte jesu li prosječne mase dva različita papira jednake.\n",
        "Objasniti što se testira u problemu i zašto ste koristi odgovarajuća funkciju za izračunavanje.\n",
        "b) Ponovite prethodni test na razini značajnosti od 1%\n",
        "c) Usporedite svoje odgovore iz dijelova (b) i (c) te objasnite zašto su isti ili različiti.\n",
        "d) Objasnite kako se na pitanja iz dijelova (b) i (c) može odgovoriti pomoću intervala pouzdanosti."
      ],
      "metadata": {
        "id": "xOpOiS1W9g3o"
      }
    },
    {
      "cell_type": "code",
      "execution_count": 23,
      "metadata": {
        "colab": {
          "base_uri": "https://localhost:8080/"
        },
        "id": "H6Wd68ui54W3",
        "outputId": "c2cf75a3-fa9e-44f9-cedb-78fce91f7c96"
      },
      "outputs": [
        {
          "output_type": "stream",
          "name": "stdout",
          "text": [
            "P-vrijednost (t-test): 2.08593386840301e-34\n",
            "a) Postoji značajna razlika između skupina (t-test).\n",
            "b) Postoji značajna razlika između skupina (t-test).\n",
            "interval pouzdanosti : 0.2176188557361618 ,  0.2275811442638389\n",
            "interval pouzdanosti : 0.21517769355630595 ,  0.23002230644369476\n"
          ]
        }
      ],
      "source": [
        "import numpy as np\n",
        "from scipy.stats import ttest_ind, t\n",
        "import pandas as pd\n",
        "import matplotlib.pyplot as plt\n",
        "import scipy.stats as stats\n",
        "import math\n",
        "\n",
        "papir1 = np.array([3.481, 3.477, 3.47, 3.448, 3.472, 3.47, 3.485, 3.464,\n",
        "               3.477, 3.475, 3.472, 3.473, 3.472, 3.47, 3.474])\n",
        "papir2 = np.array([3.258, 3.254, 3.256, 3.249, 3.241, 3.254, 3.247, 3.257,\n",
        "               3.239, 3.25, 3.258, 3.239, 3.245, 3.24, 3.254])\n",
        "\n",
        "n=len(papir1)\n",
        "\n",
        "papir1_mean = papir1.mean()\n",
        "papir2_mean = papir2.mean()\n",
        "\n",
        "papir1_std = np.std(papir1,ddof=1)\n",
        "papir2_std = np.std(papir2,ddof=1)\n",
        "\n",
        "std_pogreska_papir1=papir1_std/np.sqrt(n-1)\n",
        "std_pogreska_papir2=papir2_std/np.sqrt(n-1)\n",
        "\n",
        "stat,p=ttest_ind(papir1,papir2)\n",
        "\n",
        "print(f\"P-vrijednost (t-test): {p}\")\n",
        "\n",
        "if p<0.05:\n",
        "  print(\"a) Postoji značajna razlika između skupina (t-test).\")\n",
        "else:\n",
        "  print(\"a) Ne postoji značajna razlika između skupina (t-test).\")\n",
        "\n",
        "\n",
        "if p<0.01:\n",
        "  print(\"b) Postoji značajna razlika između skupina (t-test).\")\n",
        "else:\n",
        "  print(\"b) Ne postoji značajna razlika između skupina (t-test).\")\n",
        "\n",
        "papir_diff = papir1_mean - papir2_mean\n",
        "\n",
        "n1=len(papir1)\n",
        "n2=len(papir2)\n",
        "\n",
        "sp = math.sqrt((((n1-1)*pow(papir1_std, 2))+((n2-1)*pow(papir2_std, 2)))/(n1+n2-2))\n",
        "\n",
        "t_95=stats.t.ppf(0.05,df=n-1)\n",
        "t_99=stats.t.ppf(0.01,df=n-1)\n",
        "\n",
        "interval1_95 = (papir_diff) + t_95*sp*(math.sqrt((1/n1)+(1/n2)))\n",
        "interval2_95 = (papir_diff) - t_95*sp*(math.sqrt((1/n1)+(1/n2)))\n",
        "\n",
        "print(\"interval pouzdanosti :\",interval1_95, \", \", interval2_95)\n",
        "\n",
        "interval1_99 = (papir_diff) + t_99*sp*(math.sqrt((1/n1)+(1/n2)))\n",
        "interval2_99 = (papir_diff) - t_99*sp*(math.sqrt((1/n1)+(1/n2)))\n",
        "\n",
        "print(\"interval pouzdanosti :\",interval1_99, \", \", interval2_99)"
      ]
    },
    {
      "cell_type": "markdown",
      "source": [],
      "metadata": {
        "id": "qjiOCj4t_6qK"
      }
    },
    {
      "cell_type": "markdown",
      "source": [
        "1. Analiza podataka:\n",
        "o Učitajte priloženi skup podataka iz excel tablice.\n",
        "o Provjerite osnovne statistike rezultata prije i poslije (medijan, kvartile, raspon,\n",
        "itd.) – deskriptivna statistika\n",
        "2. Odabir metode:\n",
        "o Odredite jesu li podaci normalno distribuirani.\n",
        "o Koristiti odgovarajuću metodu kako bi odgovorili na pitanje postoji li razlika\n",
        "između skupina podataka (npr. prije i poslije intervencije).\n",
        "3. Vizualizacija podataka:\n",
        "o Prikazujte podatke koristeći boxplot ili histogram razlika.\n",
        "4. Interpretacija rezultata:\n",
        "o Napišite kratki izvještaj s odgovorom na pitanje: Postoji li značajna razlika\n",
        "između rezultata prije i poslije?"
      ],
      "metadata": {
        "id": "CFrAi8eN_7sC"
      }
    },
    {
      "cell_type": "code",
      "source": [
        "import pandas as pd\n",
        "import numpy as np\n",
        "import matplotlib.pyplot as plt\n",
        "from scipy import stats\n",
        "from scipy.stats import shapiro, t, wilcoxon\n",
        "\n",
        "data = pd.read_excel('ispitanici.xlsx')\n",
        "\n",
        "print(data['Pre'].describe())\n",
        "print(data['Post'].describe())\n",
        "\n",
        "print(len(data['Pre']))\n",
        "print(len(data['Post']))\n",
        "\n",
        "stats, p_value = stats.kstest(data['Pre'], 'norm')\n",
        "print(f\"P-value: {p_value:.3f}\")\n",
        "if p_value > 0.05:\n",
        "    print(\"Podaci pripadaju normalnoj distribuciji\")\n",
        "else:\n",
        "    print(\"Podaci ne pripadaju normalnoj distribuciji\")\n",
        "\n",
        "prije = data['Pre']\n",
        "poslije = data['Post']\n",
        "stat, p = wilcoxon(prije, poslije)\n",
        "print(f\"P-vrijednost (Wilcoxon): {p}\")\n",
        "if p < 0.05:\n",
        " print(\"Postoji značajna razlika između mjerenja prije i poslije.\")\n",
        "else:\n",
        " print(\"Ne postoji značajna razlika između mjerenja prije i poslije.\")\n",
        "\n",
        "\n",
        "plt.boxplot([data['Pre'], data['Post']])\n",
        "plt.xticks([1, 2], ['Pre', 'Post'])\n",
        "plt.ylabel('Vrijednost')\n",
        "plt.title('Boxplot')\n",
        "plt.show()\n"
      ],
      "metadata": {
        "colab": {
          "base_uri": "https://localhost:8080/",
          "height": 869
        },
        "id": "md2S9vaU9hJE",
        "outputId": "744fd4f9-5312-4987-bfed-306641db22d0"
      },
      "execution_count": 24,
      "outputs": [
        {
          "output_type": "stream",
          "name": "stdout",
          "text": [
            "count    60.000000\n",
            "mean     37.400000\n",
            "std      10.512624\n",
            "min      11.000000\n",
            "25%      31.000000\n",
            "50%      36.000000\n",
            "75%      46.000000\n",
            "max      56.000000\n",
            "Name: Pre, dtype: float64\n",
            "count    60.000000\n",
            "mean     43.850000\n",
            "std      12.802046\n",
            "min      11.000000\n",
            "25%      35.750000\n",
            "50%      43.500000\n",
            "75%      53.000000\n",
            "max      67.000000\n",
            "Name: Post, dtype: float64\n",
            "60\n",
            "60\n",
            "P-value: 0.000\n",
            "Podaci ne pripadaju normalnoj distribuciji\n",
            "P-vrijednost (Wilcoxon): 1.5311801710525323e-07\n",
            "Postoji značajna razlika između mjerenja prije i poslije.\n"
          ]
        },
        {
          "output_type": "display_data",
          "data": {
            "text/plain": [
              "<Figure size 640x480 with 1 Axes>"
            ],
            "image/png": "[encoded data removed]"
          },
          "metadata": {}
        }
      ]
    },
    {
      "cell_type": "markdown",
      "source": [
        "Srednja vrijednost u Post je veća za razliku od srednje vrijednosti za  Pre. Standardna devijacija je veća u  Post kao i interkvartili i maksimalna vrijednost.\n",
        "\n",
        "Korišten je Kruskal-Wallis test\n",
        "Zaključak je da postoji značajna razlika između vrijednosti prosjeka pre i post uzoraka."
      ],
      "metadata": {
        "id": "uEM2wbNhRov0"
      }
    }
  ]
}